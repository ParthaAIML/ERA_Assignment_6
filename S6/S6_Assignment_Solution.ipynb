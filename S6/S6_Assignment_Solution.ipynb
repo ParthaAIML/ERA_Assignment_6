{
 "cells": [
  {
   "cell_type": "markdown",
   "metadata": {
    "id": "Kn5fS9bKCO_6"
   },
   "source": [
    "### Importing the required modules"
   ]
  },
  {
   "cell_type": "code",
   "execution_count": 1,
   "metadata": {
    "colab": {
     "base_uri": "https://localhost:8080/"
    },
    "id": "0m2JWFliFfKT",
    "outputId": "43c941d8-3d4d-498f-8594-cbf679cedda9"
   },
   "outputs": [
    {
     "name": "stdout",
     "output_type": "stream",
     "text": [
      "Looking in indexes: https://pypi.org/simple, https://us-python.pkg.dev/colab-wheels/public/simple/\n",
      "Requirement already satisfied: torchsummary in /usr/local/lib/python3.10/dist-packages (1.5.1)\n"
     ]
    }
   ],
   "source": [
    "from __future__ import print_function\n",
    "import torch\n",
    "import torch.nn as nn\n",
    "import torch.nn.functional as F\n",
    "import torch.optim as optim\n",
    "from torchvision import datasets, transforms\n",
    "!pip install torchsummary\n",
    "from torchsummary import summary"
   ]
  },
  {
   "cell_type": "markdown",
   "metadata": {
    "id": "_fkAZLo8CWDo"
   },
   "source": [
    "### Building the CNN Network"
   ]
  },
  {
   "cell_type": "code",
   "execution_count": 54,
   "metadata": {
    "id": "h_Cx9q2QFgM7"
   },
   "outputs": [],
   "source": [
    "class Net(nn.Module):\n",
    "    def __init__(self):\n",
    "        super(Net, self).__init__()\n",
    "        self.conv1 = nn.Conv2d(1, 16, 3, padding=1) #input -? OUtput? RF\n",
    "        self.bn1 = nn.BatchNorm2d(16)\n",
    "        self.conv2 = nn.Conv2d(16, 32, 3, padding=1)\n",
    "        self.bn2 = nn.BatchNorm2d(32)\n",
    "        self.pool1 = nn.MaxPool2d(2, 2)\n",
    "        self.conv3 = nn.Conv2d(32, 32, 3, padding=1)\n",
    "        self.bn3 = nn.BatchNorm2d(32)\n",
    "        self.conv4 = nn.Conv2d(32, 10, 3, padding=1)\n",
    "        self.bn4 = nn.BatchNorm2d(32)\n",
    "        self.pool2 = nn.MaxPool2d(2, 2)\n",
    "        # self.gap=torch.nn.AvgPool2d(kernel_size=7, stride=1, padding=0)\n",
    "        self.bn5=nn.BatchNorm2d(10)\n",
    "        self.bn6=nn.BatchNorm2d(10)\n",
    "        self.fc1=  nn.Linear(7*7*10,20)\n",
    "        self.fc2 = nn.Linear(20, 10)\n",
    "    def forward(self, x):\n",
    "        x = self.bn3(F.relu(self.pool1(self.bn2(F.relu(self.conv2(self.bn1(F.relu(self.conv1(x)))))))))\n",
    "        x=self.bn6(F.relu(self.pool2(self.bn5(F.relu(self.conv4(x))))))\n",
    "        x = x.view(-1, 7*7*10)\n",
    "        x = F.relu(self.fc1(x))\n",
    "        x = self.fc2(x)\n",
    "        \n",
    "        return F.log_softmax(x)"
   ]
  },
  {
   "cell_type": "markdown",
   "metadata": {
    "id": "guGYRUdJCaKj"
   },
   "source": [
    "### Checking the total no of parameters"
   ]
  },
  {
   "cell_type": "code",
   "execution_count": 55,
   "metadata": {
    "colab": {
     "base_uri": "https://localhost:8080/"
    },
    "id": "xdydjYTZFyi3",
    "outputId": "e623d907-71f5-48c4-a97b-5fe80737c98c"
   },
   "outputs": [
    {
     "name": "stdout",
     "output_type": "stream",
     "text": [
      "----------------------------------------------------------------\n",
      "        Layer (type)               Output Shape         Param #\n",
      "================================================================\n",
      "            Conv2d-1           [-1, 16, 28, 28]             160\n",
      "       BatchNorm2d-2           [-1, 16, 28, 28]              32\n",
      "            Conv2d-3           [-1, 32, 28, 28]           4,640\n",
      "       BatchNorm2d-4           [-1, 32, 28, 28]              64\n",
      "         MaxPool2d-5           [-1, 32, 14, 14]               0\n",
      "       BatchNorm2d-6           [-1, 32, 14, 14]              64\n",
      "            Conv2d-7           [-1, 10, 14, 14]           2,890\n",
      "       BatchNorm2d-8           [-1, 10, 14, 14]              20\n",
      "         MaxPool2d-9             [-1, 10, 7, 7]               0\n",
      "      BatchNorm2d-10             [-1, 10, 7, 7]              20\n",
      "           Linear-11                   [-1, 20]           9,820\n",
      "           Linear-12                   [-1, 10]             210\n",
      "================================================================\n",
      "Total params: 17,920\n",
      "Trainable params: 17,920\n",
      "Non-trainable params: 0\n",
      "----------------------------------------------------------------\n",
      "Input size (MB): 0.00\n",
      "Forward/backward pass size (MB): 0.71\n",
      "Params size (MB): 0.07\n",
      "Estimated Total Size (MB): 0.78\n",
      "----------------------------------------------------------------\n"
     ]
    }
   ],
   "source": [
    "use_cuda = torch.cuda.is_available()\n",
    "device = torch.device(\"cuda\" if use_cuda else \"cpu\")\n",
    "model = Net().to(device)\n",
    "summary(model, input_size=(1, 28, 28))"
   ]
  },
  {
   "cell_type": "markdown",
   "metadata": {
    "id": "ybWUNvlbCfNW"
   },
   "source": [
    "### Downloading the data"
   ]
  },
  {
   "cell_type": "code",
   "execution_count": 12,
   "metadata": {
    "id": "DqTWLaM5GHgH"
   },
   "outputs": [],
   "source": [
    "torch.manual_seed(42)\n",
    "batch_size = 128\n",
    "\n",
    "kwargs = {'num_workers': 1, 'pin_memory': True} if use_cuda else {}\n",
    "train_loader = torch.utils.data.DataLoader(\n",
    "    datasets.MNIST('../data', train=True, download=True,\n",
    "                    transform=transforms.Compose([\n",
    "                        transforms.RandomApply([transforms.CenterCrop(22), ], p=0.1),\n",
    "                        transforms.Resize((28, 28)),\n",
    "                        transforms.RandomRotation((-15., 15.), fill=0),\n",
    "                        transforms.ToTensor(),\n",
    "                        transforms.Normalize((0.1307,), (0.3081,))\n",
    "                    ])),\n",
    "    batch_size=batch_size, shuffle=True, **kwargs)\n",
    "test_loader = torch.utils.data.DataLoader(\n",
    "    datasets.MNIST('../data', train=False, transform=transforms.Compose([\n",
    "                        transforms.ToTensor(),\n",
    "                        transforms.Normalize((0.1307,), (0.3081,))\n",
    "                    ])),\n",
    "    batch_size=batch_size, shuffle=True, **kwargs)\n"
   ]
  },
  {
   "cell_type": "markdown",
   "metadata": {
    "id": "0cjC1r5fCmKD"
   },
   "source": [
    "### Training the model"
   ]
  },
  {
   "cell_type": "code",
   "execution_count": 59,
   "metadata": {
    "id": "8fDefDhaFlwH"
   },
   "outputs": [],
   "source": [
    "from tqdm import tqdm\n",
    "def train(model, device, train_loader, optimizer, epoch):\n",
    "    model.train()\n",
    "    pbar = tqdm(train_loader)\n",
    "    for batch_idx, (data, target) in enumerate(pbar):\n",
    "        data, target = data.to(device), target.to(device)\n",
    "        optimizer.zero_grad()\n",
    "        output = model(data)\n",
    "        loss = F.nll_loss(output, target)\n",
    "        loss.backward()\n",
    "        optimizer.step()\n",
    "        pbar.set_description(desc= f'loss={loss.item()} batch_id={batch_idx}')\n",
    "\n",
    "\n",
    "def test(model, device, test_loader):\n",
    "    model.eval()\n",
    "    test_loss = 0\n",
    "    correct = 0\n",
    "    with torch.no_grad():\n",
    "        for data, target in test_loader:\n",
    "            data, target = data.to(device), target.to(device)\n",
    "            output = model(data)\n",
    "            test_loss += F.nll_loss(output, target, reduction='sum').item()  # sum up batch loss\n",
    "            pred = output.argmax(dim=1, keepdim=True)  # get the index of the max log-probability\n",
    "            correct += pred.eq(target.view_as(pred)).sum().item()\n",
    "\n",
    "    test_loss /= len(test_loader.dataset)\n",
    "\n",
    "    print('\\nTest set: Average loss: {:.4f}, Accuracy: {}/{} ({:.2f}%)\\n'.format(\n",
    "        test_loss, correct, len(test_loader.dataset),\n",
    "        100. * correct / len(test_loader.dataset)))\n",
    "    accuracy= 100. * correct / len(test_loader.dataset)\n",
    "    return accuracy"
   ]
  },
  {
   "cell_type": "code",
   "execution_count": 62,
   "metadata": {
    "colab": {
     "base_uri": "https://localhost:8080/"
    },
    "id": "MMWbLWO6FuHb",
    "outputId": "39722f90-0f65-43f8-919d-055c63aba8a1"
   },
   "outputs": [
    {
     "name": "stdout",
     "output_type": "stream",
     "text": [
      "Adjusting learning rate of group 0 to 1.0000e-02.\n",
      "epoch======================================>1\n"
     ]
    },
    {
     "name": "stderr",
     "output_type": "stream",
     "text": [
      "loss=0.07345708459615707 batch_id=468: 100%|██████████| 469/469 [00:26<00:00, 17.97it/s]\n"
     ]
    },
    {
     "name": "stdout",
     "output_type": "stream",
     "text": [
      "\n",
      "Test set: Average loss: 0.0665, Accuracy: 9791/10000 (97.91%)\n",
      "\n",
      "Adjusting learning rate of group 0 to 1.0000e-02.\n",
      "epoch======================================>2\n"
     ]
    },
    {
     "name": "stderr",
     "output_type": "stream",
     "text": [
      "loss=0.09398254007101059 batch_id=468: 100%|██████████| 469/469 [00:25<00:00, 18.27it/s]\n"
     ]
    },
    {
     "name": "stdout",
     "output_type": "stream",
     "text": [
      "\n",
      "Test set: Average loss: 0.0371, Accuracy: 9883/10000 (98.83%)\n",
      "\n",
      "Adjusting learning rate of group 0 to 1.0000e-02.\n",
      "epoch======================================>3\n"
     ]
    },
    {
     "name": "stderr",
     "output_type": "stream",
     "text": [
      "loss=0.09471436589956284 batch_id=468: 100%|██████████| 469/469 [00:25<00:00, 18.24it/s]\n"
     ]
    },
    {
     "name": "stdout",
     "output_type": "stream",
     "text": [
      "\n",
      "Test set: Average loss: 0.0398, Accuracy: 9876/10000 (98.76%)\n",
      "\n",
      "Adjusting learning rate of group 0 to 1.0000e-02.\n",
      "epoch======================================>4\n"
     ]
    },
    {
     "name": "stderr",
     "output_type": "stream",
     "text": [
      "loss=0.08763587474822998 batch_id=468: 100%|██████████| 469/469 [00:25<00:00, 18.23it/s]\n"
     ]
    },
    {
     "name": "stdout",
     "output_type": "stream",
     "text": [
      "\n",
      "Test set: Average loss: 0.0297, Accuracy: 9905/10000 (99.05%)\n",
      "\n",
      "Adjusting learning rate of group 0 to 1.0000e-02.\n",
      "epoch======================================>5\n"
     ]
    },
    {
     "name": "stderr",
     "output_type": "stream",
     "text": [
      "loss=0.035500410944223404 batch_id=468: 100%|██████████| 469/469 [00:25<00:00, 18.20it/s]\n"
     ]
    },
    {
     "name": "stdout",
     "output_type": "stream",
     "text": [
      "\n",
      "Test set: Average loss: 0.0266, Accuracy: 9913/10000 (99.13%)\n",
      "\n",
      "Adjusting learning rate of group 0 to 1.0000e-02.\n",
      "epoch======================================>6\n"
     ]
    },
    {
     "name": "stderr",
     "output_type": "stream",
     "text": [
      "loss=0.13468649983406067 batch_id=468: 100%|██████████| 469/469 [00:25<00:00, 18.05it/s]\n"
     ]
    },
    {
     "name": "stdout",
     "output_type": "stream",
     "text": [
      "\n",
      "Test set: Average loss: 0.0251, Accuracy: 9925/10000 (99.25%)\n",
      "\n",
      "Adjusting learning rate of group 0 to 1.0000e-02.\n",
      "epoch======================================>7\n"
     ]
    },
    {
     "name": "stderr",
     "output_type": "stream",
     "text": [
      "loss=0.05523402988910675 batch_id=468: 100%|██████████| 469/469 [00:25<00:00, 18.13it/s]\n"
     ]
    },
    {
     "name": "stdout",
     "output_type": "stream",
     "text": [
      "\n",
      "Test set: Average loss: 0.0254, Accuracy: 9919/10000 (99.19%)\n",
      "\n",
      "Adjusting learning rate of group 0 to 1.0000e-02.\n",
      "epoch======================================>8\n"
     ]
    },
    {
     "name": "stderr",
     "output_type": "stream",
     "text": [
      "loss=0.03245421499013901 batch_id=468: 100%|██████████| 469/469 [00:25<00:00, 18.26it/s]\n"
     ]
    },
    {
     "name": "stdout",
     "output_type": "stream",
     "text": [
      "\n",
      "Test set: Average loss: 0.0259, Accuracy: 9917/10000 (99.17%)\n",
      "\n",
      "Adjusting learning rate of group 0 to 1.0000e-02.\n",
      "epoch======================================>9\n"
     ]
    },
    {
     "name": "stderr",
     "output_type": "stream",
     "text": [
      "loss=0.005811851937323809 batch_id=468: 100%|██████████| 469/469 [00:25<00:00, 18.16it/s]\n"
     ]
    },
    {
     "name": "stdout",
     "output_type": "stream",
     "text": [
      "\n",
      "Test set: Average loss: 0.0240, Accuracy: 9920/10000 (99.20%)\n",
      "\n",
      "Adjusting learning rate of group 0 to 1.0000e-02.\n",
      "epoch======================================>10\n"
     ]
    },
    {
     "name": "stderr",
     "output_type": "stream",
     "text": [
      "loss=0.026681089773774147 batch_id=468: 100%|██████████| 469/469 [00:25<00:00, 18.37it/s]\n"
     ]
    },
    {
     "name": "stdout",
     "output_type": "stream",
     "text": [
      "\n",
      "Test set: Average loss: 0.0232, Accuracy: 9924/10000 (99.24%)\n",
      "\n",
      "Adjusting learning rate of group 0 to 1.0000e-02.\n",
      "epoch======================================>11\n"
     ]
    },
    {
     "name": "stderr",
     "output_type": "stream",
     "text": [
      "loss=0.025431854650378227 batch_id=468: 100%|██████████| 469/469 [00:25<00:00, 18.21it/s]\n"
     ]
    },
    {
     "name": "stdout",
     "output_type": "stream",
     "text": [
      "\n",
      "Test set: Average loss: 0.0238, Accuracy: 9925/10000 (99.25%)\n",
      "\n",
      "Adjusting learning rate of group 0 to 1.0000e-02.\n",
      "epoch======================================>12\n"
     ]
    },
    {
     "name": "stderr",
     "output_type": "stream",
     "text": [
      "loss=0.029419096186757088 batch_id=468: 100%|██████████| 469/469 [00:25<00:00, 18.34it/s]\n"
     ]
    },
    {
     "name": "stdout",
     "output_type": "stream",
     "text": [
      "\n",
      "Test set: Average loss: 0.0253, Accuracy: 9917/10000 (99.17%)\n",
      "\n",
      "Adjusting learning rate of group 0 to 1.0000e-02.\n",
      "epoch======================================>13\n"
     ]
    },
    {
     "name": "stderr",
     "output_type": "stream",
     "text": [
      "loss=0.0038152800407260656 batch_id=468: 100%|██████████| 469/469 [00:25<00:00, 18.40it/s]\n"
     ]
    },
    {
     "name": "stdout",
     "output_type": "stream",
     "text": [
      "\n",
      "Test set: Average loss: 0.0223, Accuracy: 9926/10000 (99.26%)\n",
      "\n",
      "Adjusting learning rate of group 0 to 1.0000e-02.\n",
      "epoch======================================>14\n"
     ]
    },
    {
     "name": "stderr",
     "output_type": "stream",
     "text": [
      "loss=0.007911021821200848 batch_id=468: 100%|██████████| 469/469 [00:25<00:00, 18.24it/s]\n"
     ]
    },
    {
     "name": "stdout",
     "output_type": "stream",
     "text": [
      "\n",
      "Test set: Average loss: 0.0223, Accuracy: 9927/10000 (99.27%)\n",
      "\n",
      "Adjusting learning rate of group 0 to 1.0000e-02.\n",
      "epoch======================================>15\n"
     ]
    },
    {
     "name": "stderr",
     "output_type": "stream",
     "text": [
      "loss=0.004543432500213385 batch_id=468: 100%|██████████| 469/469 [00:25<00:00, 18.26it/s]\n"
     ]
    },
    {
     "name": "stdout",
     "output_type": "stream",
     "text": [
      "\n",
      "Test set: Average loss: 0.0202, Accuracy: 9933/10000 (99.33%)\n",
      "\n",
      "Adjusting learning rate of group 0 to 1.0000e-03.\n",
      "epoch======================================>16\n"
     ]
    },
    {
     "name": "stderr",
     "output_type": "stream",
     "text": [
      "loss=0.053728967905044556 batch_id=468: 100%|██████████| 469/469 [00:25<00:00, 18.41it/s]\n"
     ]
    },
    {
     "name": "stdout",
     "output_type": "stream",
     "text": [
      "\n",
      "Test set: Average loss: 0.0183, Accuracy: 9933/10000 (99.33%)\n",
      "\n",
      "Adjusting learning rate of group 0 to 1.0000e-03.\n",
      "epoch======================================>17\n"
     ]
    },
    {
     "name": "stderr",
     "output_type": "stream",
     "text": [
      "loss=0.005446136463433504 batch_id=468: 100%|██████████| 469/469 [00:25<00:00, 18.44it/s]\n"
     ]
    },
    {
     "name": "stdout",
     "output_type": "stream",
     "text": [
      "\n",
      "Test set: Average loss: 0.0181, Accuracy: 9934/10000 (99.34%)\n",
      "\n",
      "Adjusting learning rate of group 0 to 1.0000e-03.\n",
      "epoch======================================>18\n"
     ]
    },
    {
     "name": "stderr",
     "output_type": "stream",
     "text": [
      "loss=0.011003772728145123 batch_id=468: 100%|██████████| 469/469 [00:25<00:00, 18.39it/s]\n"
     ]
    },
    {
     "name": "stdout",
     "output_type": "stream",
     "text": [
      "\n",
      "Test set: Average loss: 0.0175, Accuracy: 9935/10000 (99.35%)\n",
      "\n",
      "Adjusting learning rate of group 0 to 1.0000e-03.\n",
      "epoch======================================>19\n"
     ]
    },
    {
     "name": "stderr",
     "output_type": "stream",
     "text": [
      "loss=0.017421146854758263 batch_id=468: 100%|██████████| 469/469 [00:25<00:00, 18.39it/s]\n"
     ]
    },
    {
     "name": "stdout",
     "output_type": "stream",
     "text": [
      "\n",
      "Test set: Average loss: 0.0174, Accuracy: 9941/10000 (99.41%)\n",
      "\n"
     ]
    }
   ],
   "source": [
    "import warnings\n",
    "warnings.filterwarnings(\"ignore\")\n",
    "\n",
    "model = Net().to(device)\n",
    "optimizer = optim.SGD(model.parameters(), lr=0.01, momentum=0.85)\n",
    "scheduler = optim.lr_scheduler.StepLR(optimizer, step_size=15, gamma=0.1, verbose=True)\n",
    "\n",
    "for epoch in range(1, 20):\n",
    "    print(f\"epoch======================================>{epoch}\")\n",
    "    train(model, device, train_loader, optimizer, epoch)\n",
    "    accuracy=test(model, device, test_loader)\n",
    "    if accuracy>=99.40:\n",
    "        break\n",
    "    scheduler.step()"
   ]
  }
 ],
 "metadata": {
  "accelerator": "GPU",
  "colab": {
   "gpuType": "T4",
   "machine_shape": "hm",
   "provenance": []
  },
  "kernelspec": {
   "display_name": "Python 3",
   "language": "python",
   "name": "python3"
  },
  "language_info": {
   "codemirror_mode": {
    "name": "ipython",
    "version": 3
   },
   "file_extension": ".py",
   "mimetype": "text/x-python",
   "name": "python",
   "nbconvert_exporter": "python",
   "pygments_lexer": "ipython3",
   "version": "3.7.4"
  },
  "toc": {
   "base_numbering": 1,
   "nav_menu": {},
   "number_sections": true,
   "sideBar": true,
   "skip_h1_title": false,
   "title_cell": "Table of Contents",
   "title_sidebar": "Contents",
   "toc_cell": false,
   "toc_position": {},
   "toc_section_display": true,
   "toc_window_display": false
  }
 },
 "nbformat": 4,
 "nbformat_minor": 1
}
